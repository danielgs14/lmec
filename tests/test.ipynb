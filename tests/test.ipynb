{
 "cells": [
  {
   "cell_type": "code",
   "execution_count": 1,
   "metadata": {},
   "outputs": [],
   "source": [
    "import streamlit as st"
   ]
  },
  {
   "cell_type": "code",
   "execution_count": 2,
   "metadata": {},
   "outputs": [],
   "source": [
    "# Player dictionary/list\n",
    "player_data = {\n",
    "  \"player_1\": {\"points\": 0, \"games_played\": 0, \"games_won\": 0, \"games_drawn\": 0, \"games_lost\": 0, \"goals_for\": 0, \"goals_against\": 0},\n",
    "  \"player_2\": {\"points\": 0, \"games_played\": 0, \"games_won\": 0, \"games_drawn\": 0, \"games_lost\": 0, \"goals_for\": 0, \"goals_against\": 0},\n",
    "  \"player_3\": {\"points\": 0, \"games_played\": 0, \"games_won\": 0, \"games_drawn\": 0, \"games_lost\": 0, \"goals_for\": 0, \"goals_against\": 0},\n",
    "  \"player_4\": {\"points\": 0, \"games_played\": 0, \"games_won\": 0, \"games_drawn\": 0, \"games_lost\": 0, \"goals_for\": 0, \"goals_against\": 0},\n",
    "  \"player_5\": {\"points\": 0, \"games_played\": 0, \"games_won\": 0, \"games_drawn\": 0, \"games_lost\": 0, \"goals_for\": 0, \"goals_against\": 0},\n",
    "  \"player_6\": {\"points\": 0, \"games_played\": 0, \"games_won\": 0, \"games_drawn\": 0, \"games_lost\": 0, \"goals_for\": 0, \"goals_against\": 0},\n",
    "  \"player_7\": {\"points\": 0, \"games_played\": 0, \"games_won\": 0, \"games_drawn\": 0, \"games_lost\": 0, \"goals_for\": 0, \"goals_against\": 0},\n",
    "  \"player_8\": {\"points\": 0, \"games_played\": 0, \"games_won\": 0, \"games_drawn\": 0, \"games_lost\": 0, \"goals_for\": 0, \"goals_against\": 0},\n",
    "  \"player_9\": {\"points\": 0, \"games_played\": 0, \"games_won\": 0, \"games_drawn\": 0, \"games_lost\": 0, \"goals_for\": 0, \"goals_against\": 0},\n",
    "  \"player_10\": {\"points\": 0, \"games_played\": 0, \"games_won\": 0, \"games_drawn\": 0, \"games_lost\": 0, \"goals_for\": 0, \"goals_against\": 0},\n",
    "  \"player_11\": {\"points\": 0, \"games_played\": 0, \"games_won\": 0, \"games_drawn\": 0, \"games_lost\": 0, \"goals_for\": 0, \"goals_against\": 0},\n",
    "  \"player_12\": {\"points\": 0, \"games_played\": 0, \"games_won\": 0, \"games_drawn\": 0, \"games_lost\": 0, \"goals_for\": 0, \"goals_against\": 0},\n",
    "  \"player_13\": {\"points\": 0, \"games_played\": 0, \"games_won\": 0, \"games_drawn\": 0, \"games_lost\": 0, \"goals_for\": 0, \"goals_against\": 0},\n",
    "  \"player_14\": {\"points\": 0, \"games_played\": 0, \"games_won\": 0, \"games_drawn\": 0, \"games_lost\": 0, \"goals_for\": 0, \"goals_against\": 0},\n",
    "}\n"
   ]
  },
  {
   "cell_type": "code",
   "execution_count": 5,
   "metadata": {},
   "outputs": [],
   "source": [
    "# Function to update player data\n",
    "def updater(team_a, team_b, score_a, score_b):\n",
    "  score_diff = score_a - score_b\n",
    "\n",
    "  if score_diff == 0:\n",
    "    winner = \"Empate\"\n",
    "    winner_points = 1\n",
    "    loser_points = 1\n",
    "  else:\n",
    "    winner = \"Team A\" if score_a > score_b else \"Team B\"\n",
    "    winner_points = 3 if winner != \"Empate\" else 1\n",
    "    loser_points = 0 if winner != \"Empate\" else 1\n",
    "\n",
    "# Update data for each player in winning and losing teams\n",
    "  for player in team_a:\n",
    "    player_data[player][\"points\"] += winner_points\n",
    "    player_data[player][\"games_played\"] += 1  \n",
    "    player_data[player][\"games_won\"] += 1 if winner == \"Team A\" else 0\n",
    "    player_data[player][\"games_drawn\"] += 1 if winner == \"Draw\" else 0\n",
    "    player_data[player][\"games_lost\"] += 1 if winner == \"Team B\" else 0\n",
    "    player_data[player][\"goals_for\"] += score_a\n",
    "    player_data[player][\"goals_against\"] += score_b\n",
    "  for player in team_b:\n",
    "    player_data[player][\"points\"] += loser_points\n",
    "    player_data[player][\"games_played\"] += 1  \n",
    "    player_data[player][\"games_won\"] += 1 if winner == \"Team B\" else 0\n",
    "    player_data[player][\"games_drawn\"] += 1 if winner == \"Draw\" else 0\n",
    "    player_data[player][\"games_lost\"] += 1 if winner == \"Team A\" else 0\n",
    "    player_data[player][\"goals_for\"] += score_a\n",
    "    player_data[player][\"goals_against\"] += score_b"
   ]
  },
  {
   "cell_type": "code",
   "execution_count": 8,
   "metadata": {},
   "outputs": [
    {
     "name": "stderr",
     "output_type": "stream",
     "text": [
      "2024-05-20 11:31:25.890 Session state does not function when running a script without `streamlit run`\n"
     ]
    },
    {
     "data": {
      "text/plain": [
       "DeltaGenerator()"
      ]
     },
     "execution_count": 8,
     "metadata": {},
     "output_type": "execute_result"
    }
   ],
   "source": [
    "# Streamlit interface\n",
    "team_a = st.multiselect(\"Select Team A Players\", player_data.keys())\n",
    "team_b = st.multiselect(\"Select Team B Players\", player_data.keys())\n",
    "\n",
    "# team_a = st.multiselect(\"Select Team A Players\", list(player_data.keys()), 6)\n",
    "# team_b = st.multiselect(\"Select Team B Players\", list(player_data.keys()), 6)\n",
    "score_a = st.number_input(\"Team A Score\", min_value=0)\n",
    "score_b = st.number_input(\"Team B Score\", min_value=0)\n",
    "\n",
    "if st.button(\"Update Table\"):\n",
    "  updater(team_a, team_b, score_a, score_b)\n",
    "\n",
    "# Display updated player data table\n",
    "st.dataframe(player_data)"
   ]
  },
  {
   "cell_type": "code",
   "execution_count": null,
   "metadata": {},
   "outputs": [],
   "source": []
  }
 ],
 "metadata": {
  "kernelspec": {
   "display_name": "venv",
   "language": "python",
   "name": "python3"
  },
  "language_info": {
   "codemirror_mode": {
    "name": "ipython",
    "version": 3
   },
   "file_extension": ".py",
   "mimetype": "text/x-python",
   "name": "python",
   "nbconvert_exporter": "python",
   "pygments_lexer": "ipython3",
   "version": "3.11.2"
  }
 },
 "nbformat": 4,
 "nbformat_minor": 2
}
